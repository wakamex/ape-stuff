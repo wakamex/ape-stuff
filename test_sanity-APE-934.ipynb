{
 "cells": [
  {
   "cell_type": "code",
   "execution_count": 1,
   "metadata": {},
   "outputs": [
    {
     "name": "stderr",
     "output_type": "stream",
     "text": [
      "/home/mihai/.pyenv/versions/3.9.16/envs/APE-934/lib/python3.9/site-packages/tqdm/auto.py:21: TqdmWarning: IProgress not found. Please update jupyter and ipywidgets. See https://ipywidgets.readthedocs.io/en/stable/user_install.html\n",
      "  from .autonotebook import tqdm as notebook_tqdm\n"
     ]
    }
   ],
   "source": [
    "import ape\n",
    "from ape.api import ProviderAPI, BlockAPI, TransactionAPI\n",
    "import pandas as pd\n",
    "from darkmode import darkmode_orange  # pylint: disable=unused-import\n",
    "from ape import Contract\n",
    "from ape.contracts import ContractInstance\n",
    "from ape.contracts.base import ContractTransaction, ContractTransactionHandler"
   ]
  },
  {
   "cell_type": "markdown",
   "metadata": {},
   "source": [
    " ## Set up ape"
   ]
  },
  {
   "cell_type": "code",
   "execution_count": 2,
   "metadata": {},
   "outputs": [
    {
     "name": "stdout",
     "output_type": "stream",
     "text": [
      "INFO: Connecting to existing Erigon node at  http://localhost:8547.\n"
     ]
    }
   ],
   "source": [
    "USE_ALCHEMY = False\n",
    "PROVIDER_STRING = \"alchemy\" if USE_ALCHEMY else \"http://localhost:8547\"\n",
    "provider: ProviderAPI = ape.networks.parse_network_choice(f\"ethereum:goerli:{PROVIDER_STRING}\").push_provider()"
   ]
  },
  {
   "attachments": {},
   "cell_type": "markdown",
   "metadata": {},
   "source": [
    " ### show `block.base_fee` behavior is unchanged"
   ]
  },
  {
   "cell_type": "code",
   "execution_count": 3,
   "metadata": {},
   "outputs": [
    {
     "name": "stdout",
     "output_type": "stream",
     "text": [
      "block.base_fee  = 1,186,909,026,049\n",
      "block2.base_fee = 1,186,909,026,049\n"
     ]
    }
   ],
   "source": [
    "block = ape.chain.blocks[-1]\n",
    "block2 = provider.get_block(\"latest\")\n",
    "assert block == block2\n",
    "print(f\"block.base_fee  = {getattr(block, 'base_fee'):,.0f}\")\n",
    "print(f\"block2.base_fee = {getattr(block2, 'base_fee'):,.0f}\")"
   ]
  },
  {
   "attachments": {},
   "cell_type": "markdown",
   "metadata": {},
   "source": [
    " ### show new `provider.base_fee` behavior"
   ]
  },
  {
   "cell_type": "code",
   "execution_count": 7,
   "metadata": {},
   "outputs": [
    {
     "name": "stdout",
     "output_type": "stream",
     "text": [
      "current base fee is         1,118.58 😴\n",
      "base fee FROM THE FUTURE is 1,242.69 🤪\n",
      "provider's base fee  is...  1,242.69 🚀\n"
     ]
    }
   ],
   "source": [
    "fee_history = provider.web3.eth.fee_history(1, provider.web3.eth.get_block(\"latest\").number)\n",
    "last_base_fee, next_base_fee = fee_history[\"baseFeePerGas\"]\n",
    "print(f\"current base fee is         {last_base_fee/1e9:,.2f} 😴\")\n",
    "print(f\"base fee FROM THE FUTURE is {next_base_fee/1e9:,.2f} 🤪\")\n",
    "print(f\"provider's base fee  is...  {getattr(provider, 'base_fee')/1e9:,.2f} 🚀\")"
   ]
  },
  {
   "attachments": {},
   "cell_type": "markdown",
   "metadata": {},
   "source": [
    "### preparing a new transaction uses the new base fee"
   ]
  },
  {
   "cell_type": "code",
   "execution_count": 8,
   "metadata": {},
   "outputs": [
    {
     "name": "stdout",
     "output_type": "stream",
     "text": [
      "base fee = 1,242.69 (nice.)\n",
      "         = max_fee (1,243.57) - max_priority_fee (0.88)\n"
     ]
    }
   ],
   "source": [
    "zero_address = \"0x0000000000000000000000000000000000000000\"\n",
    "dai: ContractInstance = Contract(\"0x11fe4b6ae13d2a6055c8d9cf65c55bac32b5d844\")  # goerli DAI\n",
    "contract_txn: ContractTransactionHandler = dai.approve\n",
    "contract_txn = ContractTransaction(address=dai.address,abi=dai.approve.abis[0])\n",
    "serial_txn: TransactionAPI = contract_txn.serialize_transaction(zero_address, 1, gas_limit=int(1e6))\n",
    "prepped_txn: TransactionAPI = provider.prepare_transaction(serial_txn)\n",
    "max_fee = prepped_txn.max_fee\n",
    "max_priority_fee = prepped_txn.max_priority_fee\n",
    "implied_base_fee = max_fee - max_priority_fee\n",
    "print(f\"base fee = {implied_base_fee/1e9:,.2f}\")\n",
    "print(f\"         = max_fee ({max_fee/1e9:,.2f}) - max_priority_fee ({max_priority_fee/1e9:,.2f})\")"
   ]
  }
 ],
 "metadata": {
  "kernelspec": {
   "display_name": "Python 3",
   "language": "python",
   "name": "python3"
  },
  "language_info": {
   "codemirror_mode": {
    "name": "ipython",
    "version": 3
   },
   "file_extension": ".py",
   "mimetype": "text/x-python",
   "name": "python",
   "nbconvert_exporter": "python",
   "pygments_lexer": "ipython3",
   "version": "3.9.16"
  },
  "orig_nbformat": 4
 },
 "nbformat": 4,
 "nbformat_minor": 2
}
