{
 "cells": [
  {
   "cell_type": "code",
   "execution_count": 7,
   "metadata": {},
   "outputs": [],
   "source": [
    "import ape\n",
    "from ape.api import ProviderAPI, BlockAPI, TransactionAPI\n",
    "from ape import Contract\n",
    "from ape.contracts import ContractInstance\n",
    "from ape.contracts.base import ContractTransaction, ContractTransactionHandler"
   ]
  },
  {
   "cell_type": "markdown",
   "metadata": {},
   "source": [
    " ## Set up ape"
   ]
  },
  {
   "cell_type": "code",
   "execution_count": 8,
   "metadata": {},
   "outputs": [
    {
     "name": "stdout",
     "output_type": "stream",
     "text": [
      "INFO: Connecting to existing Erigon node at  http://localhost:8547.\n"
     ]
    }
   ],
   "source": [
    "USE_ALCHEMY = False\n",
    "PROVIDER_STRING = \"alchemy\" if USE_ALCHEMY else \"http://localhost:8547\"\n",
    "provider: ProviderAPI = ape.networks.parse_network_choice(f\"ethereum:goerli:{PROVIDER_STRING}\").push_provider()"
   ]
  },
  {
   "attachments": {},
   "cell_type": "markdown",
   "metadata": {},
   "source": [
    " ### show original `block.base_fee` behavior"
   ]
  },
  {
   "cell_type": "code",
   "execution_count": 9,
   "metadata": {},
   "outputs": [
    {
     "name": "stdout",
     "output_type": "stream",
     "text": [
      "block.base_fee  = 735,823,625,899 in block=Block(num_transactions=92, hash=HexBytes('0xb5cbcb6e65a5cb64c4e0988f494605351fc18460810119cbd7c975e16955e7b2'), number=8946801, parent_hash=HexBytes('0xfdd5139783b75c9af9f335765324393ba097e14386a919b77d65cd6eff45aba1'), size=57082, timestamp=1683297504, gas_limit=30000000, gas_used=15068846, base_fee=735823625899, difficulty=0, total_difficulty=10790000)\n",
      "block2.base_fee = 735,823,625,899 in block2=Block(num_transactions=92, hash=HexBytes('0xb5cbcb6e65a5cb64c4e0988f494605351fc18460810119cbd7c975e16955e7b2'), number=8946801, parent_hash=HexBytes('0xfdd5139783b75c9af9f335765324393ba097e14386a919b77d65cd6eff45aba1'), size=57082, timestamp=1683297504, gas_limit=30000000, gas_used=15068846, base_fee=735823625899, difficulty=0, total_difficulty=10790000)\n",
      "block3.base_fee = 735,823,625,899 in block3=Block(num_transactions=92, hash=None, number=8946801, parent_hash=HexBytes('0xfdd5139783b75c9af9f335765324393ba097e14386a919b77d65cd6eff45aba1'), size=57082, timestamp=1683297504, gas_limit=30000000, gas_used=15068846, base_fee=735823625899, difficulty=0, total_difficulty=10790000)\n"
     ]
    }
   ],
   "source": [
    "block = ape.chain.blocks[-1]\n",
    "block2 = provider.get_block(\"latest\")\n",
    "block3 = provider.get_block(\"pending\")\n",
    "assert block == block2\n",
    "print(f\"block.base_fee  = {getattr(block, 'base_fee'):,.0f} in {block=}\")\n",
    "print(f\"block2.base_fee = {getattr(block2, 'base_fee'):,.0f} in {block2=}\")\n",
    "print(f\"block3.base_fee = {getattr(block3, 'base_fee'):,.0f} in {block3=}\")"
   ]
  },
  {
   "attachments": {},
   "cell_type": "markdown",
   "metadata": {},
   "source": [
    " ### show old `provider.base_fee` behavior"
   ]
  },
  {
   "cell_type": "code",
   "execution_count": 16,
   "metadata": {},
   "outputs": [
    {
     "name": "stdout",
     "output_type": "stream",
     "text": [
      "current base fee is         687.68 😴\n",
      "base fee FROM THE FUTURE is 765.77 🤪\n",
      "provider's base fee  is...  687.68 🤦\n"
     ]
    }
   ],
   "source": [
    "fee_history = provider.web3.eth.fee_history(1, provider.web3.eth.get_block(\"latest\").number)\n",
    "last_base_fee, next_base_fee = fee_history[\"baseFeePerGas\"]\n",
    "print(f\"current base fee is         {last_base_fee/1e9:,.2f} 😴\")\n",
    "print(f\"base fee FROM THE FUTURE is {next_base_fee/1e9:,.2f} 🤪\")\n",
    "print(f\"provider's base fee  is...  {getattr(provider, 'base_fee')/1e9:,.2f} 🤦\")"
   ]
  },
  {
   "attachments": {},
   "cell_type": "markdown",
   "metadata": {},
   "source": [
    "### preparing a new transaction uses the current (latest block) base fee"
   ]
  },
  {
   "cell_type": "code",
   "execution_count": 17,
   "metadata": {},
   "outputs": [
    {
     "name": "stdout",
     "output_type": "stream",
     "text": [
      "base fee = 687.68\n",
      "         = max_fee (689.09) - max_priority_fee (1.41)\n",
      "this matches **last** base fee 687.68\n"
     ]
    }
   ],
   "source": [
    "dai: ContractInstance = Contract(\"0x11fe4b6ae13d2a6055c8d9cf65c55bac32b5d844\")  # goerli DAI\n",
    "contract_txn = ContractTransaction(address=dai.address,abi=dai.approve.abis[0])\n",
    "serial_txn: TransactionAPI = contract_txn.serialize_transaction(\"0x\" + \"0\"*40, 1, gas_limit=int(1e6))\n",
    "prepped_txn: TransactionAPI = provider.prepare_transaction(serial_txn)\n",
    "max_fee, max_priority_fee = prepped_txn.max_fee, prepped_txn.max_priority_fee\n",
    "implied_base_fee = max_fee - max_priority_fee\n",
    "print(f\"base fee = {implied_base_fee/1e9:,.2f}\")\n",
    "print(f\"         = max_fee ({max_fee/1e9:,.2f}) - max_priority_fee ({max_priority_fee/1e9:,.2f})\")\n",
    "if implied_base_fee == last_base_fee:\n",
    "    print(f\"this matches LAST base fee {last_base_fee/1e9:,.2f}\")\n",
    "elif implied_base_fee == next_base_fee:\n",
    "    print(f\"this matches NEXT base fee {next_base_fee/1e9:,.2f}\")"
   ]
  },
  {
   "cell_type": "code",
   "execution_count": null,
   "metadata": {},
   "outputs": [],
   "source": []
  }
 ],
 "metadata": {
  "kernelspec": {
   "display_name": "Python 3",
   "language": "python",
   "name": "python3"
  },
  "language_info": {
   "codemirror_mode": {
    "name": "ipython",
    "version": 3
   },
   "file_extension": ".py",
   "mimetype": "text/x-python",
   "name": "python",
   "nbconvert_exporter": "python",
   "pygments_lexer": "ipython3",
   "version": "3.9.16"
  },
  "orig_nbformat": 4
 },
 "nbformat": 4,
 "nbformat_minor": 2
}
