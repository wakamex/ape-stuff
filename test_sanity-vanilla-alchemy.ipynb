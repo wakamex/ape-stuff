{
 "cells": [
  {
   "cell_type": "code",
   "execution_count": 1,
   "metadata": {},
   "outputs": [
    {
     "name": "stderr",
     "output_type": "stream",
     "text": [
      "/home/mihai/.pyenv/versions/3.9.16/envs/elf-env/lib/python3.9/site-packages/tqdm/auto.py:21: TqdmWarning: IProgress not found. Please update jupyter and ipywidgets. See https://ipywidgets.readthedocs.io/en/stable/user_install.html\n",
      "  from .autonotebook import tqdm as notebook_tqdm\n"
     ]
    }
   ],
   "source": [
    "import ape\n",
    "from ape.api import ProviderAPI, BlockAPI, TransactionAPI\n",
    "from ape import Contract\n",
    "from ape.contracts import ContractInstance\n",
    "from ape.contracts.base import ContractTransaction, ContractTransactionHandler"
   ]
  },
  {
   "cell_type": "markdown",
   "metadata": {},
   "source": [
    " ## Set up ape"
   ]
  },
  {
   "cell_type": "code",
   "execution_count": 2,
   "metadata": {},
   "outputs": [],
   "source": [
    "USE_ALCHEMY = True\n",
    "PROVIDER_STRING = \"alchemy\" if USE_ALCHEMY else \"http://localhost:8547\"\n",
    "provider: ProviderAPI = ape.networks.parse_network_choice(f\"ethereum:goerli:{PROVIDER_STRING}\").push_provider()"
   ]
  },
  {
   "attachments": {},
   "cell_type": "markdown",
   "metadata": {},
   "source": [
    " ### show original `block.base_fee` behavior"
   ]
  },
  {
   "cell_type": "code",
   "execution_count": 3,
   "metadata": {},
   "outputs": [
    {
     "ename": "ValidationError",
     "evalue": "1 validation error for Block\ntotalDifficulty\n  none is not an allowed value (type=type_error.none.not_allowed)",
     "output_type": "error",
     "traceback": [
      "\u001b[0;31m---------------------------------------------------------------------------\u001b[0m",
      "\u001b[0;31mValidationError\u001b[0m                           Traceback (most recent call last)",
      "Cell \u001b[0;32mIn[3], line 3\u001b[0m\n\u001b[1;32m      1\u001b[0m block \u001b[39m=\u001b[39m ape\u001b[39m.\u001b[39mchain\u001b[39m.\u001b[39mblocks[\u001b[39m-\u001b[39m\u001b[39m1\u001b[39m]\n\u001b[1;32m      2\u001b[0m block2 \u001b[39m=\u001b[39m provider\u001b[39m.\u001b[39mget_block(\u001b[39m\"\u001b[39m\u001b[39mlatest\u001b[39m\u001b[39m\"\u001b[39m)\n\u001b[0;32m----> 3\u001b[0m block3 \u001b[39m=\u001b[39m provider\u001b[39m.\u001b[39;49mget_block(\u001b[39m\"\u001b[39;49m\u001b[39mpending\u001b[39;49m\u001b[39m\"\u001b[39;49m)\n\u001b[1;32m      4\u001b[0m \u001b[39massert\u001b[39;00m block \u001b[39m==\u001b[39m block2\n\u001b[1;32m      5\u001b[0m \u001b[39mprint\u001b[39m(\u001b[39mf\u001b[39m\u001b[39m\"\u001b[39m\u001b[39mblock.base_fee  = \u001b[39m\u001b[39m{\u001b[39;00m\u001b[39mgetattr\u001b[39m(block,\u001b[39m \u001b[39m\u001b[39m'\u001b[39m\u001b[39mbase_fee\u001b[39m\u001b[39m'\u001b[39m)\u001b[39m:\u001b[39;00m\u001b[39m,.0f\u001b[39m\u001b[39m}\u001b[39;00m\u001b[39m in \u001b[39m\u001b[39m{\u001b[39;00mblock\u001b[39m=}\u001b[39;00m\u001b[39m\"\u001b[39m)\n",
      "File \u001b[0;32m~/.pyenv/versions/3.9.16/envs/elf-env/lib/python3.9/site-packages/ape/api/providers.py:770\u001b[0m, in \u001b[0;36mWeb3Provider.get_block\u001b[0;34m(self, block_id)\u001b[0m\n\u001b[1;32m    767\u001b[0m \u001b[39mexcept\u001b[39;00m BlockNotFound \u001b[39mas\u001b[39;00m err:\n\u001b[1;32m    768\u001b[0m     \u001b[39mraise\u001b[39;00m BlockNotFoundError(block_id) \u001b[39mfrom\u001b[39;00m \u001b[39merr\u001b[39;00m\n\u001b[0;32m--> 770\u001b[0m \u001b[39mreturn\u001b[39;00m \u001b[39mself\u001b[39;49m\u001b[39m.\u001b[39;49mnetwork\u001b[39m.\u001b[39;49mecosystem\u001b[39m.\u001b[39;49mdecode_block(block_data)\n",
      "File \u001b[0;32m~/.pyenv/versions/3.9.16/envs/elf-env/lib/python3.9/site-packages/ape_ethereum/ecosystem.py:348\u001b[0m, in \u001b[0;36mEthereum.decode_block\u001b[0;34m(self, data)\u001b[0m\n\u001b[1;32m    345\u001b[0m \u001b[39mif\u001b[39;00m \u001b[39m\"\u001b[39m\u001b[39mtransactions\u001b[39m\u001b[39m\"\u001b[39m \u001b[39min\u001b[39;00m data:\n\u001b[1;32m    346\u001b[0m     data[\u001b[39m\"\u001b[39m\u001b[39mnum_transactions\u001b[39m\u001b[39m\"\u001b[39m] \u001b[39m=\u001b[39m \u001b[39mlen\u001b[39m(data[\u001b[39m\"\u001b[39m\u001b[39mtransactions\u001b[39m\u001b[39m\"\u001b[39m])\n\u001b[0;32m--> 348\u001b[0m \u001b[39mreturn\u001b[39;00m Block\u001b[39m.\u001b[39;49mparse_obj(data)\n",
      "File \u001b[0;32m~/.pyenv/versions/3.9.16/envs/elf-env/lib/python3.9/site-packages/pydantic/main.py:526\u001b[0m, in \u001b[0;36mpydantic.main.BaseModel.parse_obj\u001b[0;34m()\u001b[0m\n",
      "File \u001b[0;32m~/.pyenv/versions/3.9.16/envs/elf-env/lib/python3.9/site-packages/pydantic/main.py:341\u001b[0m, in \u001b[0;36mpydantic.main.BaseModel.__init__\u001b[0;34m()\u001b[0m\n",
      "\u001b[0;31mValidationError\u001b[0m: 1 validation error for Block\ntotalDifficulty\n  none is not an allowed value (type=type_error.none.not_allowed)"
     ]
    }
   ],
   "source": [
    "block = ape.chain.blocks[-1]\n",
    "block2 = provider.get_block(\"latest\")\n",
    "block3 = provider.get_block(\"pending\")\n",
    "assert block == block2\n",
    "print(f\"block.base_fee  = {getattr(block, 'base_fee'):,.0f} in {block=}\")\n",
    "print(f\"block2.base_fee = {getattr(block2, 'base_fee'):,.0f} in {block2=}\")\n",
    "print(f\"block3.base_fee = {getattr(block3, 'base_fee'):,.0f} in {block3=}\")"
   ]
  },
  {
   "attachments": {},
   "cell_type": "markdown",
   "metadata": {},
   "source": [
    " ### show old `provider.base_fee` behavior"
   ]
  },
  {
   "cell_type": "code",
   "execution_count": 4,
   "metadata": {},
   "outputs": [
    {
     "name": "stdout",
     "output_type": "stream",
     "text": [
      "current base fee is         700.46 😴\n",
      "base fee FROM THE FUTURE is 671.69 🤪\n",
      "provider's base fee  is...  700.46 🤦\n"
     ]
    }
   ],
   "source": [
    "fee_history = provider.web3.eth.fee_history(1, provider.web3.eth.get_block(\"latest\").number)\n",
    "last_base_fee, next_base_fee = fee_history[\"baseFeePerGas\"]\n",
    "print(f\"current base fee is         {last_base_fee/1e9:,.2f} 😴\")\n",
    "print(f\"base fee FROM THE FUTURE is {next_base_fee/1e9:,.2f} 🤪\")\n",
    "print(f\"provider's base fee  is...  {getattr(provider, 'base_fee')/1e9:,.2f} 🤦\")"
   ]
  },
  {
   "attachments": {},
   "cell_type": "markdown",
   "metadata": {},
   "source": [
    "### preparing a new transaction uses the current (latest block) base fee"
   ]
  },
  {
   "cell_type": "code",
   "execution_count": 5,
   "metadata": {},
   "outputs": [
    {
     "name": "stdout",
     "output_type": "stream",
     "text": [
      "base fee = 700.46\n",
      "         = max_fee (701.87) - max_priority_fee (1.41)\n",
      "this matches LAST base fee 700.46\n"
     ]
    }
   ],
   "source": [
    "dai: ContractInstance = Contract(\"0x11fe4b6ae13d2a6055c8d9cf65c55bac32b5d844\")  # goerli DAI\n",
    "contract_txn = ContractTransaction(address=dai.address,abi=dai.approve.abis[0])\n",
    "serial_txn: TransactionAPI = contract_txn.serialize_transaction(\"0x\" + \"0\"*40, 1, gas_limit=int(1e6))\n",
    "prepped_txn: TransactionAPI = provider.prepare_transaction(serial_txn)\n",
    "max_fee, max_priority_fee = prepped_txn.max_fee, prepped_txn.max_priority_fee\n",
    "implied_base_fee = max_fee - max_priority_fee\n",
    "print(f\"base fee = {implied_base_fee/1e9:,.2f}\")\n",
    "print(f\"         = max_fee ({max_fee/1e9:,.2f}) - max_priority_fee ({max_priority_fee/1e9:,.2f})\")\n",
    "if implied_base_fee == last_base_fee:\n",
    "    print(f\"this matches LAST base fee {last_base_fee/1e9:,.2f}\")\n",
    "elif implied_base_fee == next_base_fee:\n",
    "    print(f\"this matches NEXT base fee {next_base_fee/1e9:,.2f}\")"
   ]
  }
 ],
 "metadata": {
  "kernelspec": {
   "display_name": "Python 3",
   "language": "python",
   "name": "python3"
  },
  "language_info": {
   "codemirror_mode": {
    "name": "ipython",
    "version": 3
   },
   "file_extension": ".py",
   "mimetype": "text/x-python",
   "name": "python",
   "nbconvert_exporter": "python",
   "pygments_lexer": "ipython3",
   "version": "3.9.16"
  },
  "orig_nbformat": 4
 },
 "nbformat": 4,
 "nbformat_minor": 2
}
